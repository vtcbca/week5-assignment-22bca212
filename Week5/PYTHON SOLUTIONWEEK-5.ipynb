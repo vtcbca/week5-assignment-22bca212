{
 "cells": [
  {
   "cell_type": "code",
   "execution_count": 1,
   "id": "6f943092",
   "metadata": {},
   "outputs": [],
   "source": [
    "import csv"
   ]
  },
  {
   "cell_type": "code",
   "execution_count": 2,
   "id": "281810c0",
   "metadata": {},
   "outputs": [],
   "source": [
    "a=['sid','sname','city','contact']"
   ]
  },
  {
   "cell_type": "code",
   "execution_count": 5,
   "id": "122adb31",
   "metadata": {},
   "outputs": [],
   "source": [
    "records=[[1,'parrth','surat',9873215754],\n",
    "         [2,'dhrumin','mahuva',9487521889],\n",
    "         [3,'sunil','valod',3547985476],\n",
    "         [4,'jenil','bardoli',6875489675],\n",
    "         [5,'meet','baroda',9548759642]]\n",
    "p=[]"
   ]
  },
  {
   "cell_type": "code",
   "execution_count": 6,
   "id": "263f7b45",
   "metadata": {},
   "outputs": [
    {
     "name": "stdout",
     "output_type": "stream",
     "text": [
      "enter student id:6\n",
      "enter student name:om\n",
      "enter student city:bardoli\n",
      "enter student contact number:6854796587\n",
      "enter student id:7\n",
      "enter student name:sai\n",
      "enter student city:surat\n",
      "enter student contact number:6954658759\n",
      "enter student id:8\n",
      "enter student name:ram\n",
      "enter student city:mahuva\n",
      "enter student contact number:9854769854\n",
      "enter student id:9\n",
      "enter student name:kishan\n",
      "enter student city:valod\n",
      "enter student contact number:9854457898\n",
      "enter student id:10\n",
      "enter student name:radha\n",
      "enter student city:surat\n",
      "enter student contact number:9876658712\n"
     ]
    }
   ],
   "source": [
    "for i in range(5):\n",
    "    sid=int(input(\"enter student id:\"))\n",
    "    sname=input(\"enter student name:\")\n",
    "    city=input(\"enter student city:\")\n",
    "    contact=int(input(\"enter student contact number:\"))\n",
    "    l=[sid,sname,city,contact]\n",
    "    p.append(l)"
   ]
  },
  {
   "cell_type": "code",
   "execution_count": 7,
   "id": "b8f3c2f5",
   "metadata": {},
   "outputs": [],
   "source": [
    "with open('C:\\sqlite3\\student.csv','w',newline='') as f:\n",
    "    file=csv.writer(f)\n",
    "    file.writerow(a)\n",
    "    file.writerows(records)\n",
    "    file.writerows(p)"
   ]
  },
  {
   "cell_type": "code",
   "execution_count": 8,
   "id": "8fe70b84",
   "metadata": {},
   "outputs": [
    {
     "name": "stdout",
     "output_type": "stream",
     "text": [
      "['sid', 'sname', 'city', 'contact']\n",
      "['1', 'parrth', 'surat', '9873215754']\n",
      "['2', 'dhrumin', 'mahuva', '9487521889']\n",
      "['3', 'sunil', 'valod', '3547985476']\n",
      "['4', 'jenil', 'bardoli', '6875489675']\n",
      "['5', 'meet', 'baroda', '9548759642']\n",
      "['6', 'om', 'bardoli', '6854796587']\n",
      "['7', 'sai', 'surat', '6954658759']\n",
      "['8', 'ram', 'mahuva', '9854769854']\n",
      "['9', 'kishan', 'valod', '9854457898']\n",
      "['10', 'radha', 'surat', '9876658712']\n"
     ]
    }
   ],
   "source": [
    "with open('C:\\sqlite3\\student.csv','r',newline='') as read:\n",
    "    all_record=csv.reader(read)\n",
    "    for records in all_record:\n",
    "        print(records)"
   ]
  },
  {
   "cell_type": "code",
   "execution_count": null,
   "id": "85f0d046",
   "metadata": {},
   "outputs": [],
   "source": []
  }
 ],
 "metadata": {
  "kernelspec": {
   "display_name": "Python 3 (ipykernel)",
   "language": "python",
   "name": "python3"
  },
  "language_info": {
   "codemirror_mode": {
    "name": "ipython",
    "version": 3
   },
   "file_extension": ".py",
   "mimetype": "text/x-python",
   "name": "python",
   "nbconvert_exporter": "python",
   "pygments_lexer": "ipython3",
   "version": "3.11.4"
  }
 },
 "nbformat": 4,
 "nbformat_minor": 5
}
